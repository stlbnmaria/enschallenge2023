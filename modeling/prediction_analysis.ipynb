{
 "cells": [
  {
   "attachments": {},
   "cell_type": "markdown",
   "metadata": {},
   "source": [
    "# Prediction analysis on train and test data\n",
    "\n",
    "This notebook serves the purpose to analyse what is going on under the hood. It seems that for C_1 and C_5 we reach an AUC of 1, but for C_2 we reach and AUC of 0.6. Using the averaged center cv classifiers we reach an AUC of 0.97. Looking at the validation AUCs it seems that every classifier is not generalising well."
   ]
  },
  {
   "cell_type": "code",
   "execution_count": 6,
   "metadata": {},
   "outputs": [],
   "source": [
    "from pathlib import Path\n",
    "import numpy as np\n",
    "\n",
    "from sklearn.metrics import confusion_matrix, ConfusionMatrixDisplay, roc_auc_score, auc, RocCurveDisplay, roc_curve"
   ]
  },
  {
   "cell_type": "code",
   "execution_count": 2,
   "metadata": {},
   "outputs": [],
   "source": [
    "import sys\n",
    "sys.path.append('..')\n",
    "\n",
    "import training_functions as trfs"
   ]
  },
  {
   "cell_type": "code",
   "execution_count": 3,
   "metadata": {},
   "outputs": [],
   "source": [
    "data_path=Path(\"../storage/\")\n",
    "(\n",
    "    X_train,\n",
    "    y_train,\n",
    "    patients_unique,\n",
    "    y_unique,\n",
    "    patients_train,\n",
    "    samples_train,\n",
    "    centers_train,\n",
    ") = trfs.load_mocov_train_data(data_path=data_path, tile_averaging=False)"
   ]
  },
  {
   "cell_type": "code",
   "execution_count": 4,
   "metadata": {},
   "outputs": [],
   "source": [
    "centers_agg = [\n",
    "            np.unique(centers_train[samples_train == sample])\n",
    "            for sample in np.unique(samples_train)\n",
    "        ]\n",
    "centers_agg = np.array(centers_agg).flatten()"
   ]
  },
  {
   "cell_type": "code",
   "execution_count": 5,
   "metadata": {},
   "outputs": [],
   "source": [
    "y_agg = [\n",
    "            np.unique(y_train[samples_train == sample])\n",
    "            for sample in np.unique(samples_train)\n",
    "        ]\n",
    "y_agg = np.array(y_agg).flatten()"
   ]
  },
  {
   "cell_type": "code",
   "execution_count": null,
   "metadata": {},
   "outputs": [],
   "source": []
  },
  {
   "cell_type": "code",
   "execution_count": null,
   "metadata": {},
   "outputs": [],
   "source": []
  },
  {
   "cell_type": "code",
   "execution_count": null,
   "metadata": {},
   "outputs": [],
   "source": []
  },
  {
   "cell_type": "code",
   "execution_count": null,
   "metadata": {},
   "outputs": [],
   "source": []
  },
  {
   "cell_type": "code",
   "execution_count": null,
   "metadata": {},
   "outputs": [],
   "source": []
  },
  {
   "cell_type": "code",
   "execution_count": 4,
   "metadata": {},
   "outputs": [
    {
     "name": "stderr",
     "output_type": "stream",
     "text": [
      "/Users/mariastoelben/opt/anaconda3/envs/PythonforDataScience/lib/python3.9/site-packages/sklearn/linear_model/_logistic.py:444: ConvergenceWarning: lbfgs failed to converge (status=1):\n",
      "STOP: TOTAL NO. of ITERATIONS REACHED LIMIT.\n",
      "\n",
      "Increase the number of iterations (max_iter) or scale the data as shown in:\n",
      "    https://scikit-learn.org/stable/modules/preprocessing.html\n",
      "Please also refer to the documentation for alternative solver options:\n",
      "    https://scikit-learn.org/stable/modules/linear_model.html#logistic-regression\n",
      "  n_iter_i = _check_optimize_result(\n"
     ]
    },
    {
     "name": "stdout",
     "output_type": "stream",
     "text": [
      "AUC on split 0 validation center C_1: Train - 1.000, Val - 0.572\n"
     ]
    },
    {
     "name": "stderr",
     "output_type": "stream",
     "text": [
      "/Users/mariastoelben/opt/anaconda3/envs/PythonforDataScience/lib/python3.9/site-packages/sklearn/linear_model/_logistic.py:444: ConvergenceWarning: lbfgs failed to converge (status=1):\n",
      "STOP: TOTAL NO. of ITERATIONS REACHED LIMIT.\n",
      "\n",
      "Increase the number of iterations (max_iter) or scale the data as shown in:\n",
      "    https://scikit-learn.org/stable/modules/preprocessing.html\n",
      "Please also refer to the documentation for alternative solver options:\n",
      "    https://scikit-learn.org/stable/modules/linear_model.html#logistic-regression\n",
      "  n_iter_i = _check_optimize_result(\n"
     ]
    },
    {
     "name": "stdout",
     "output_type": "stream",
     "text": [
      "AUC on split 0 validation center C_5: Train - 0.997, Val - 0.643\n"
     ]
    },
    {
     "name": "stderr",
     "output_type": "stream",
     "text": [
      "/Users/mariastoelben/opt/anaconda3/envs/PythonforDataScience/lib/python3.9/site-packages/sklearn/linear_model/_logistic.py:444: ConvergenceWarning: lbfgs failed to converge (status=1):\n",
      "STOP: TOTAL NO. of ITERATIONS REACHED LIMIT.\n",
      "\n",
      "Increase the number of iterations (max_iter) or scale the data as shown in:\n",
      "    https://scikit-learn.org/stable/modules/preprocessing.html\n",
      "Please also refer to the documentation for alternative solver options:\n",
      "    https://scikit-learn.org/stable/modules/linear_model.html#logistic-regression\n",
      "  n_iter_i = _check_optimize_result(\n"
     ]
    },
    {
     "name": "stdout",
     "output_type": "stream",
     "text": [
      "AUC on split 0 validation center C_2: Train - 0.993, Val - 0.609\n",
      "----------------------------\n",
      "5-fold cross-validated AUC averaged over 1 repeats: 0.608 (0.029)\n"
     ]
    }
   ],
   "source": [
    "estimator = trfs.get_tabular_estimator(\"LogReg\")\n",
    "lrs_log = trfs.train_mocov_features(\n",
    "    estimator,\n",
    "    X_train,\n",
    "    y_train,\n",
    "    patients_unique,\n",
    "    y_unique,\n",
    "    patients_train,\n",
    "    samples_train,\n",
    "    centers_train,\n",
    "    agg_by=\"mean\",\n",
    "    tile_avg=False,\n",
    "    subsampling=False,\n",
    ")"
   ]
  },
  {
   "cell_type": "code",
   "execution_count": 5,
   "metadata": {},
   "outputs": [],
   "source": [
    "preds_log = 0\n",
    "# loop over the classifiers\n",
    "for lr in lrs_log:\n",
    "    temp = lr.predict_proba(X_train)[:, 1]\n",
    "    temp = trfs.pred_aggregation(temp, samples_train)\n",
    "    preds_log += temp\n",
    "\n",
    "# and take the average (ensembling technique)\n",
    "preds_log = preds_log / len(lrs_log)"
   ]
  },
  {
   "cell_type": "code",
   "execution_count": 7,
   "metadata": {},
   "outputs": [
    {
     "data": {
      "text/plain": [
       "array([0.35867959, 0.54480139, 0.19529433, 0.24963797, 0.58156655,\n",
       "       0.17176457, 0.44848845, 0.199608  , 0.25966448, 0.37451246,\n",
       "       0.41893692, 0.32207467, 0.2500688 , 0.59869478, 0.59064549,\n",
       "       0.28557883, 0.19996015, 0.56149701, 0.45604209, 0.46973288,\n",
       "       0.37511399, 0.14414791, 0.61930751, 0.31036539, 0.31195839,\n",
       "       0.34522212, 0.54197783, 0.11059749, 0.46131207, 0.37333411,\n",
       "       0.25846959, 0.53841055, 0.10695842, 0.18982748, 0.53387379,\n",
       "       0.4706037 , 0.41736303, 0.15471435, 0.2168136 , 0.14370619,\n",
       "       0.15179489, 0.21778416, 0.29844478, 0.13693677, 0.23123385,\n",
       "       0.51107778, 0.75221467, 0.5822238 , 0.31969389, 0.15517186,\n",
       "       0.41704057, 0.47213614, 0.57671808, 0.62944998, 0.42714439,\n",
       "       0.25002052, 0.71644878, 0.24831962, 0.7295092 , 0.58151329,\n",
       "       0.71371795, 0.43143424, 0.15715052, 0.20361605, 0.63520839,\n",
       "       0.17939856, 0.26350692, 0.61952097, 0.25678053, 0.23744466,\n",
       "       0.62194382, 0.41488945, 0.23003339, 0.32970902, 0.16248776,\n",
       "       0.18643267, 0.31943013, 0.30483892, 0.28709913, 0.47478577,\n",
       "       0.47584121, 0.12136703, 0.386868  , 0.23009786, 0.2222024 ,\n",
       "       0.67128718, 0.24747176, 0.26872146, 0.23130009, 0.55223626,\n",
       "       0.63466288, 0.67172731, 0.42764814, 0.36773603, 0.3191068 ,\n",
       "       0.74688985, 0.43392048, 0.69262945, 0.33555023, 0.2412341 ,\n",
       "       0.51773722, 0.44653049, 0.66043363, 0.23875322, 0.65321294,\n",
       "       0.69604547, 0.42589873, 0.20155903, 0.24293898, 0.47025666,\n",
       "       0.11102334, 0.29090953, 0.21419237, 0.39353682, 0.57886616,\n",
       "       0.12493512, 0.31091939, 0.15335068, 0.6195589 , 0.65211636,\n",
       "       0.10805067, 0.11190739, 0.44461276, 0.62631656, 0.18715839,\n",
       "       0.35171282, 0.58543564, 0.39892235, 0.35807738, 0.14404443,\n",
       "       0.26742313, 0.36246865, 0.13282373, 0.26844018, 0.16445211,\n",
       "       0.25885644, 0.3635636 , 0.2492364 , 0.28374352, 0.32981992,\n",
       "       0.58728819, 0.09779201, 0.18593697, 0.62665869, 0.36165621,\n",
       "       0.47121212, 0.25474814, 0.5296673 , 0.62673236, 0.21998526,\n",
       "       0.39133882, 0.16595594, 0.16023618, 0.38177287, 0.54332854,\n",
       "       0.25699009, 0.27578511, 0.08257227, 0.23631875, 0.06352815,\n",
       "       0.63787719, 0.69322977, 0.27742413, 0.43966094, 0.18512749,\n",
       "       0.14395811, 0.56736141, 0.17035445, 0.15249211, 0.24373949,\n",
       "       0.28107472, 0.54248328, 0.13785374, 0.61778059, 0.78540712,\n",
       "       0.72329763, 0.18744758, 0.27762515, 0.16410717, 0.25306989,\n",
       "       0.39599712, 0.18488179, 0.46630136, 0.35883836, 0.5956632 ,\n",
       "       0.07300788, 0.64487825, 0.10261154, 0.16479299, 0.63102736,\n",
       "       0.40003647, 0.59330944, 0.18173331, 0.51935004, 0.22264978,\n",
       "       0.21832243, 0.28302116, 0.39578502, 0.25313048, 0.20205857,\n",
       "       0.32932809, 0.29583955, 0.39339999, 0.41374296, 0.63899138,\n",
       "       0.63707451, 0.36682598, 0.51068708, 0.71436271, 0.17369477,\n",
       "       0.25613975, 0.43202371, 0.20018174, 0.18908525, 0.36913261,\n",
       "       0.29421151, 0.21099178, 0.7509826 , 0.79857949, 0.40158038,\n",
       "       0.45029245, 0.27033517, 0.52008958, 0.60973849, 0.28581465,\n",
       "       0.13844893, 0.11937037, 0.5294848 , 0.15472628, 0.26492806,\n",
       "       0.39218883, 0.20386189, 0.34804726, 0.25934052, 0.18318831,\n",
       "       0.30977058, 0.46081377, 0.62097498, 0.17057448, 0.63858451,\n",
       "       0.48674633, 0.65227409, 0.59251534, 0.14922798, 0.19888135,\n",
       "       0.23321361, 0.62947828, 0.13635671, 0.27054276, 0.19808377,\n",
       "       0.34691061, 0.58831874, 0.16314952, 0.51598524, 0.42543519,\n",
       "       0.31207257, 0.1981706 , 0.18571131, 0.55989601, 0.47247952,\n",
       "       0.29582541, 0.27718496, 0.1209379 , 0.30198145, 0.24557597,\n",
       "       0.26632092, 0.33044864, 0.28341   , 0.28663236, 0.33852717,\n",
       "       0.28187154, 0.03860121, 0.25513407, 0.32129148, 0.51129218,\n",
       "       0.27785211, 0.32881123, 0.30045515, 0.54383462, 0.14865216,\n",
       "       0.3824046 , 0.18252868, 0.66646689, 0.58297264, 0.38885269,\n",
       "       0.72386242, 0.24969642, 0.56005307, 0.35597399, 0.14885682,\n",
       "       0.61149626, 0.71756885, 0.21593922, 0.31663909, 0.73809877,\n",
       "       0.35744719, 0.56896395, 0.20867667, 0.30286777, 0.65448737,\n",
       "       0.44774729, 0.7390158 , 0.72819977, 0.19413046, 0.641559  ,\n",
       "       0.19035136, 0.49726259, 0.32597636, 0.18440082, 0.24105878,\n",
       "       0.19165252, 0.44091149, 0.27042868, 0.31146568, 0.10676412,\n",
       "       0.2195079 , 0.29924031, 0.22248921, 0.15163796, 0.23075745,\n",
       "       0.42187564, 0.16861718, 0.20071939, 0.24017881, 0.25148041,\n",
       "       0.81407576, 0.66490869, 0.77416942, 0.33680548, 0.26658706,\n",
       "       0.23211854, 0.3371171 , 0.12683682, 0.10438643, 0.34847534,\n",
       "       0.7949786 , 0.28909219, 0.30702181, 0.67291686, 0.62022039,\n",
       "       0.25486264, 0.20829749, 0.77120571, 0.20085084])"
      ]
     },
     "execution_count": 7,
     "metadata": {},
     "output_type": "execute_result"
    }
   ],
   "source": [
    "preds_log"
   ]
  },
  {
   "cell_type": "code",
   "execution_count": 8,
   "metadata": {},
   "outputs": [
    {
     "data": {
      "text/plain": [
       "<sklearn.metrics._plot.confusion_matrix.ConfusionMatrixDisplay at 0x7fb101d13d90>"
      ]
     },
     "execution_count": 8,
     "metadata": {},
     "output_type": "execute_result"
    },
    {
     "data": {
      "image/png": "[encoded data removed]",
      "text/plain": [
       "<Figure size 640x480 with 2 Axes>"
      ]
     },
     "metadata": {},
     "output_type": "display_data"
    }
   ],
   "source": [
    "cm = confusion_matrix(y_agg, preds_log > 0.5)\n",
    "disp = ConfusionMatrixDisplay(cm)\n",
    "disp.plot()"
   ]
  },
  {
   "cell_type": "code",
   "execution_count": 51,
   "metadata": {},
   "outputs": [
    {
     "data": {
      "text/plain": [
       "<sklearn.metrics._plot.confusion_matrix.ConfusionMatrixDisplay at 0x7fad8e0e5490>"
      ]
     },
     "execution_count": 51,
     "metadata": {},
     "output_type": "execute_result"
    },
    {
     "data": {
      "image/png": "[encoded data removed]",
      "text/plain": [
       "<Figure size 640x480 with 2 Axes>"
      ]
     },
     "metadata": {},
     "output_type": "display_data"
    }
   ],
   "source": [
    "cm = confusion_matrix(y_agg[centers_agg != \"C_2\"], preds_log[centers_agg != \"C_2\"] > 0.5)\n",
    "disp = ConfusionMatrixDisplay(cm)\n",
    "disp.plot()"
   ]
  },
  {
   "cell_type": "code",
   "execution_count": null,
   "metadata": {},
   "outputs": [],
   "source": []
  },
  {
   "cell_type": "code",
   "execution_count": null,
   "metadata": {},
   "outputs": [],
   "source": []
  },
  {
   "cell_type": "code",
   "execution_count": 6,
   "metadata": {},
   "outputs": [
    {
     "name": "stdout",
     "output_type": "stream",
     "text": [
      "AUC on split 0 validation center C_1: Train - 1.000, Val - 0.636\n",
      "AUC on split 0 validation center C_5: Train - 1.000, Val - 0.637\n",
      "AUC on split 0 validation center C_2: Train - 1.000, Val - 0.613\n",
      "----------------------------\n",
      "5-fold cross-validated AUC averaged over 1 repeats: 0.629 (0.011)\n"
     ]
    }
   ],
   "source": [
    "estimator = trfs.get_tabular_estimator(\"RF\")\n",
    "lrs_rf = trfs.train_mocov_features(\n",
    "    estimator,\n",
    "    X_train,\n",
    "    y_train,\n",
    "    patients_unique,\n",
    "    y_unique,\n",
    "    patients_train,\n",
    "    samples_train,\n",
    "    centers_train,\n",
    "    agg_by=\"mean\",\n",
    "    tile_avg=False,\n",
    "    subsampling=False,\n",
    ")"
   ]
  },
  {
   "cell_type": "code",
   "execution_count": 18,
   "metadata": {},
   "outputs": [],
   "source": [
    "preds_rf = 0\n",
    "# loop over the classifiers\n",
    "for lr in lrs_rf:\n",
    "    temp = lr.predict_proba(X_train)[:, 1]\n",
    "    temp = trfs.pred_aggregation(temp, samples_train)\n",
    "    preds_rf += temp\n",
    "\n",
    "# and take the average (ensembling technique)\n",
    "preds_rf = preds_rf / len(lrs_rf)"
   ]
  },
  {
   "cell_type": "code",
   "execution_count": 19,
   "metadata": {},
   "outputs": [
    {
     "data": {
      "text/plain": [
       "array([0.12777, 0.41896, 0.11587, 0.12875, 0.40752, 0.11008, 0.37756,\n",
       "       0.11707, 0.11993, 0.37113, 0.38132, 0.13204, 0.11686, 0.80506,\n",
       "       0.79604, 0.11932, 0.28754, 0.79837, 0.77029, 0.77165, 0.76094,\n",
       "       0.0914 , 0.41562, 0.36152, 0.12139, 0.14374, 0.79759, 0.0883 ,\n",
       "       0.40839, 0.14389, 0.34056, 0.78429, 0.09876, 0.1019 , 0.77762,\n",
       "       0.78425, 0.14513, 0.10086, 0.1147 , 0.0931 , 0.28167, 0.30641,\n",
       "       0.13681, 0.32515, 0.10455, 0.77753, 0.81409, 0.79737, 0.11888,\n",
       "       0.10781, 0.77068, 0.76794, 0.78263, 0.81142, 0.41658, 0.12874,\n",
       "       0.80275, 0.12773, 0.4134 , 0.78741, 0.80809, 0.13005, 0.0924 ,\n",
       "       0.29994, 0.79671, 0.11556, 0.11869, 0.79949, 0.11278, 0.29313,\n",
       "       0.79199, 0.373  , 0.13492, 0.11962, 0.10174, 0.11053, 0.36543,\n",
       "       0.13111, 0.11633, 0.39938, 0.79742, 0.07151, 0.39146, 0.35654,\n",
       "       0.11204, 0.80288, 0.11746, 0.32075, 0.31866, 0.7813 , 0.8014 ,\n",
       "       0.41372, 0.36095, 0.14156, 0.32812, 0.81756, 0.15578, 0.81599,\n",
       "       0.12904, 0.31973, 0.36987, 0.14832, 0.80509, 0.10963, 0.77846,\n",
       "       0.82441, 0.39347, 0.34471, 0.34538, 0.3896 , 0.08736, 0.11946,\n",
       "       0.31583, 0.15089, 0.78727, 0.09458, 0.13426, 0.11215, 0.80292,\n",
       "       0.82446, 0.07013, 0.09763, 0.42767, 0.79861, 0.32722, 0.38558,\n",
       "       0.79673, 0.14307, 0.36202, 0.09041, 0.29494, 0.12658, 0.11316,\n",
       "       0.10781, 0.10203, 0.34153, 0.13644, 0.12501, 0.11479, 0.12527,\n",
       "       0.79723, 0.09626, 0.11416, 0.81389, 0.37372, 0.42652, 0.12615,\n",
       "       0.39439, 0.79157, 0.30459, 0.1353 , 0.09873, 0.10571, 0.37048,\n",
       "       0.40635, 0.32863, 0.34825, 0.07939, 0.32109, 0.06861, 0.77929,\n",
       "       0.82398, 0.32296, 0.14175, 0.31965, 0.10083, 0.78937, 0.28647,\n",
       "       0.09288, 0.12302, 0.30669, 0.7955 , 0.26896, 0.7991 , 0.82275,\n",
       "       0.80122, 0.11649, 0.11221, 0.11903, 0.31465, 0.15514, 0.10856,\n",
       "       0.78184, 0.37938, 0.78464, 0.09675, 0.44565, 0.09909, 0.11113,\n",
       "       0.82017, 0.15082, 0.79468, 0.10131, 0.77559, 0.10943, 0.11499,\n",
       "       0.13334, 0.12985, 0.31137, 0.09372, 0.37264, 0.32593, 0.12521,\n",
       "       0.14476, 0.82018, 0.82399, 0.13996, 0.37559, 0.80297, 0.10305,\n",
       "       0.12448, 0.42048, 0.10228, 0.25505, 0.76247, 0.12706, 0.11065,\n",
       "       0.7991 , 0.85725, 0.14767, 0.77209, 0.32158, 0.77546, 0.43872,\n",
       "       0.11472, 0.09366, 0.27335, 0.79808, 0.10549, 0.33378, 0.76408,\n",
       "       0.10945, 0.35037, 0.11112, 0.1043 , 0.30008, 0.34333, 0.79972,\n",
       "       0.10478, 0.7831 , 0.79386, 0.80051, 0.78349, 0.10831, 0.10289,\n",
       "       0.13782, 0.80295, 0.3135 , 0.11775, 0.11824, 0.32966, 0.81023,\n",
       "       0.07489, 0.77495, 0.14921, 0.11828, 0.1137 , 0.10728, 0.79836,\n",
       "       0.77019, 0.36009, 0.12064, 0.08463, 0.13226, 0.32543, 0.11217,\n",
       "       0.12809, 0.33967, 0.11076, 0.12494, 0.13374, 0.05854, 0.11559,\n",
       "       0.11669, 0.77563, 0.13231, 0.35456, 0.7557 , 0.79303, 0.1066 ,\n",
       "       0.34895, 0.10661, 0.82808, 0.77094, 0.35824, 0.79892, 0.33784,\n",
       "       0.7883 , 0.12416, 0.09776, 0.78004, 0.79975, 0.10882, 0.37521,\n",
       "       0.80075, 0.34377, 0.80586, 0.10554, 0.11213, 0.81141, 0.43098,\n",
       "       0.8157 , 0.80333, 0.11279, 0.82367, 0.10446, 0.77098, 0.35884,\n",
       "       0.11352, 0.12913, 0.09984, 0.77054, 0.1134 , 0.11674, 0.079  ,\n",
       "       0.32394, 0.33873, 0.34032, 0.10343, 0.12034, 0.14302, 0.28568,\n",
       "       0.33413, 0.12825, 0.11547, 0.84316, 0.79178, 0.81122, 0.11965,\n",
       "       0.11917, 0.10502, 0.311  , 0.33529, 0.08264, 0.11646, 0.47409,\n",
       "       0.13454, 0.33464, 0.81703, 0.78193, 0.12114, 0.10222, 0.79889,\n",
       "       0.10262])"
      ]
     },
     "execution_count": 19,
     "metadata": {},
     "output_type": "execute_result"
    }
   ],
   "source": [
    "preds_rf"
   ]
  },
  {
   "cell_type": "code",
   "execution_count": 21,
   "metadata": {},
   "outputs": [
    {
     "data": {
      "text/plain": [
       "<sklearn.metrics._plot.confusion_matrix.ConfusionMatrixDisplay at 0x7fb2bb009070>"
      ]
     },
     "execution_count": 21,
     "metadata": {},
     "output_type": "execute_result"
    },
    {
     "data": {
      "image/png": "[encoded data removed]",
      "text/plain": [
       "<Figure size 640x480 with 2 Axes>"
      ]
     },
     "metadata": {},
     "output_type": "display_data"
    }
   ],
   "source": [
    "cm = confusion_matrix(y_agg, preds_rf > 0.5)\n",
    "disp = ConfusionMatrixDisplay(cm)\n",
    "disp.plot()"
   ]
  },
  {
   "cell_type": "code",
   "execution_count": 31,
   "metadata": {},
   "outputs": [],
   "source": [
    "preds_rf = 0\n",
    "# loop over the classifiers\n",
    "for lr in lrs_rf:\n",
    "    temp_ = lr.predict_proba(X_train)[:, 1]\n",
    "    temp_ = trfs.pred_aggregation(temp_, samples_train)\n",
    "    preds_rf += temp_\n",
    "\n",
    "# and take the average (ensembling technique)\n",
    "preds_rf = preds_rf / len(lrs_rf)"
   ]
  },
  {
   "cell_type": "code",
   "execution_count": 32,
   "metadata": {},
   "outputs": [
    {
     "data": {
      "text/plain": [
       "array([0.13633, 0.44857, 0.11899, 0.1332 , 0.42697, 0.1193 , 0.39608,\n",
       "       0.11819, 0.12193, 0.39261, 0.40274, 0.13718, 0.12258, 0.80692,\n",
       "       0.80166, 0.12255, 0.31539, 0.80296, 0.77456, 0.77772, 0.7647 ,\n",
       "       0.09592, 0.43016, 0.37759, 0.12567, 0.14812, 0.80326, 0.09696,\n",
       "       0.42513, 0.14815, 0.36842, 0.79239, 0.10309, 0.11   , 0.78319,\n",
       "       0.78807, 0.15118, 0.10635, 0.11713, 0.10011, 0.31177, 0.33006,\n",
       "       0.14525, 0.34257, 0.11115, 0.78422, 0.81865, 0.80236, 0.12415,\n",
       "       0.11261, 0.7773 , 0.77507, 0.78972, 0.81418, 0.43408, 0.13483,\n",
       "       0.81242, 0.13045, 0.45232, 0.79492, 0.81847, 0.13755, 0.10152,\n",
       "       0.31809, 0.80074, 0.12589, 0.12807, 0.80332, 0.11921, 0.32316,\n",
       "       0.80026, 0.4018 , 0.13991, 0.12468, 0.1079 , 0.117  , 0.39491,\n",
       "       0.13622, 0.12145, 0.42337, 0.79997, 0.08087, 0.4197 , 0.38057,\n",
       "       0.11851, 0.81099, 0.12078, 0.34186, 0.35079, 0.78678, 0.80715,\n",
       "       0.43886, 0.37715, 0.1446 , 0.35921, 0.82521, 0.16028, 0.82321,\n",
       "       0.13081, 0.33505, 0.40469, 0.15598, 0.80661, 0.11639, 0.7882 ,\n",
       "       0.82989, 0.42367, 0.38286, 0.37594, 0.41546, 0.09576, 0.13165,\n",
       "       0.33725, 0.16049, 0.79255, 0.10258, 0.14022, 0.12154, 0.81311,\n",
       "       0.8287 , 0.07435, 0.10679, 0.45335, 0.80611, 0.36399, 0.40614,\n",
       "       0.8025 , 0.14535, 0.39523, 0.09692, 0.31747, 0.13351, 0.1227 ,\n",
       "       0.11195, 0.10768, 0.37022, 0.14598, 0.13135, 0.12523, 0.13132,\n",
       "       0.80222, 0.1041 , 0.12174, 0.81672, 0.40253, 0.44369, 0.13235,\n",
       "       0.4366 , 0.79756, 0.32552, 0.14262, 0.10825, 0.11321, 0.39111,\n",
       "       0.43365, 0.34977, 0.37681, 0.08738, 0.35109, 0.07459, 0.78632,\n",
       "       0.82905, 0.34187, 0.14968, 0.33614, 0.1064 , 0.79426, 0.31516,\n",
       "       0.10126, 0.12612, 0.33133, 0.80005, 0.29073, 0.79947, 0.82933,\n",
       "       0.80914, 0.12139, 0.12077, 0.12701, 0.36354, 0.16016, 0.1208 ,\n",
       "       0.78319, 0.40834, 0.7917 , 0.10426, 0.46722, 0.10214, 0.11607,\n",
       "       0.82764, 0.15372, 0.80039, 0.10869, 0.78025, 0.11575, 0.12265,\n",
       "       0.13353, 0.13899, 0.34419, 0.10077, 0.38657, 0.35058, 0.13548,\n",
       "       0.15348, 0.82587, 0.82945, 0.14442, 0.40318, 0.81303, 0.10738,\n",
       "       0.12856, 0.46105, 0.1118 , 0.29261, 0.77213, 0.13522, 0.11635,\n",
       "       0.80121, 0.86246, 0.15464, 0.77838, 0.34928, 0.77887, 0.46642,\n",
       "       0.1261 , 0.10068, 0.32684, 0.80058, 0.11246, 0.36119, 0.77111,\n",
       "       0.11419, 0.37293, 0.11656, 0.10824, 0.32774, 0.37719, 0.81077,\n",
       "       0.11599, 0.78945, 0.79944, 0.80715, 0.78808, 0.11495, 0.10659,\n",
       "       0.13802, 0.80711, 0.33898, 0.12318, 0.12378, 0.34471, 0.81863,\n",
       "       0.08485, 0.78194, 0.15649, 0.12271, 0.12187, 0.11367, 0.80593,\n",
       "       0.77373, 0.38923, 0.12722, 0.09123, 0.14001, 0.35604, 0.12275,\n",
       "       0.1365 , 0.3587 , 0.11832, 0.12996, 0.1398 , 0.0669 , 0.12683,\n",
       "       0.12482, 0.78392, 0.13954, 0.38   , 0.76075, 0.80057, 0.11185,\n",
       "       0.37061, 0.11629, 0.83245, 0.78371, 0.39386, 0.80436, 0.35718,\n",
       "       0.80081, 0.1295 , 0.10407, 0.78641, 0.8121 , 0.11218, 0.39029,\n",
       "       0.80879, 0.36079, 0.80988, 0.10986, 0.12178, 0.81573, 0.44916,\n",
       "       0.819  , 0.80897, 0.12124, 0.82776, 0.10977, 0.77346, 0.38776,\n",
       "       0.1271 , 0.1378 , 0.10831, 0.77734, 0.11925, 0.12367, 0.08646,\n",
       "       0.3554 , 0.37352, 0.36121, 0.11092, 0.12204, 0.14917, 0.30937,\n",
       "       0.35261, 0.13088, 0.1213 , 0.84675, 0.79921, 0.81498, 0.12445,\n",
       "       0.12391, 0.11216, 0.33059, 0.35303, 0.0934 , 0.12421, 0.49609,\n",
       "       0.14765, 0.35813, 0.82137, 0.78768, 0.13057, 0.10683, 0.79953,\n",
       "       0.11016])"
      ]
     },
     "execution_count": 32,
     "metadata": {},
     "output_type": "execute_result"
    }
   ],
   "source": [
    "preds_rf"
   ]
  },
  {
   "cell_type": "code",
   "execution_count": 33,
   "metadata": {},
   "outputs": [
    {
     "data": {
      "text/plain": [
       "<sklearn.metrics._plot.confusion_matrix.ConfusionMatrixDisplay at 0x7fad722a5c40>"
      ]
     },
     "execution_count": 33,
     "metadata": {},
     "output_type": "execute_result"
    },
    {
     "data": {
      "image/png": "[encoded data removed]",
      "text/plain": [
       "<Figure size 640x480 with 2 Axes>"
      ]
     },
     "metadata": {},
     "output_type": "display_data"
    }
   ],
   "source": [
    "cm = confusion_matrix(y_agg, preds_rf > 0.5)\n",
    "disp = ConfusionMatrixDisplay(cm)\n",
    "disp.plot()"
   ]
  },
  {
   "cell_type": "code",
   "execution_count": 89,
   "metadata": {},
   "outputs": [
    {
     "data": {
      "text/plain": [
       "<sklearn.metrics._plot.confusion_matrix.ConfusionMatrixDisplay at 0x7fb0c93e0e20>"
      ]
     },
     "execution_count": 89,
     "metadata": {},
     "output_type": "execute_result"
    },
    {
     "data": {
      "image/png": "[encoded data removed]",
      "text/plain": [
       "<Figure size 640x480 with 2 Axes>"
      ]
     },
     "metadata": {},
     "output_type": "display_data"
    }
   ],
   "source": [
    "cm = confusion_matrix(y_agg[centers_agg != \"C_2\"], preds_rf[centers_agg != \"C_2\"] > 0.5)\n",
    "disp = ConfusionMatrixDisplay(cm)\n",
    "disp.plot()"
   ]
  },
  {
   "cell_type": "code",
   "execution_count": 10,
   "metadata": {},
   "outputs": [
    {
     "data": {
      "text/plain": [
       "array([1., 1., 0., 0., 0., 1., 1., 1., 1., 0., 0., 0., 0., 1., 0., 0., 1.,\n",
       "       0., 1., 1., 0., 0., 0., 0., 1., 0., 0., 0., 0., 1., 0., 0., 1., 1.,\n",
       "       1., 0., 0., 1., 0., 1., 0., 0., 0., 0., 1., 0., 0., 0., 0., 0., 0.,\n",
       "       0., 1., 0., 0., 0., 0., 0., 1., 0., 1., 0., 0., 1., 0., 1., 0., 0.,\n",
       "       1., 0., 0., 1., 0., 1., 0., 1., 0., 0., 1., 0., 0., 1., 0., 0., 0.,\n",
       "       0., 0., 1., 0., 1., 1., 1.])"
      ]
     },
     "execution_count": 10,
     "metadata": {},
     "output_type": "execute_result"
    }
   ],
   "source": [
    "y_agg[centers_agg == \"C_2\"]"
   ]
  },
  {
   "cell_type": "code",
   "execution_count": 23,
   "metadata": {},
   "outputs": [
    {
     "data": {
      "text/plain": [
       "array([0.41896, 0.40752, 0.37756, 0.37113, 0.38132, 0.28754, 0.41562,\n",
       "       0.36152, 0.40839, 0.34056, 0.28167, 0.30641, 0.32515, 0.41658,\n",
       "       0.4134 , 0.29994, 0.29313, 0.373  , 0.36543, 0.39938, 0.39146,\n",
       "       0.35654, 0.32075, 0.31866, 0.41372, 0.36095, 0.32812, 0.31973,\n",
       "       0.36987, 0.39347, 0.34471, 0.34538, 0.3896 , 0.31583, 0.42767,\n",
       "       0.32722, 0.38558, 0.36202, 0.29494, 0.34153, 0.37372, 0.42652,\n",
       "       0.39439, 0.30459, 0.37048, 0.40635, 0.32863, 0.34825, 0.32109,\n",
       "       0.32296, 0.31965, 0.28647, 0.30669, 0.26896, 0.31465, 0.37938,\n",
       "       0.44565, 0.31137, 0.37264, 0.32593, 0.37559, 0.42048, 0.25505,\n",
       "       0.32158, 0.43872, 0.27335, 0.33378, 0.35037, 0.30008, 0.34333,\n",
       "       0.3135 , 0.32966, 0.36009, 0.32543, 0.33967, 0.35456, 0.34895,\n",
       "       0.35824, 0.33784, 0.37521, 0.34377, 0.43098, 0.35884, 0.32394,\n",
       "       0.33873, 0.34032, 0.28568, 0.33413, 0.311  , 0.33529, 0.47409,\n",
       "       0.33464])"
      ]
     },
     "execution_count": 23,
     "metadata": {},
     "output_type": "execute_result"
    }
   ],
   "source": [
    "preds_rf[centers_agg == \"C_2\"]"
   ]
  },
  {
   "cell_type": "code",
   "execution_count": 59,
   "metadata": {},
   "outputs": [
    {
     "data": {
      "text/plain": [
       "array(['ID_002.npy', 'ID_007.npy', 'ID_013.npy', 'ID_018.npy',\n",
       "       'ID_019.npy', 'ID_026.npy', 'ID_037.npy', 'ID_039.npy',\n",
       "       'ID_046.npy', 'ID_049.npy', 'ID_061.npy', 'ID_062.npy',\n",
       "       'ID_064.npy', 'ID_080.npy', 'ID_084.npy', 'ID_090.npy',\n",
       "       'ID_096.npy', 'ID_098.npy', 'ID_106.npy', 'ID_110.npy',\n",
       "       'ID_113.npy', 'ID_114.npy', 'ID_118.npy', 'ID_120.npy',\n",
       "       'ID_124.npy', 'ID_126.npy', 'ID_129.npy', 'ID_138.npy',\n",
       "       'ID_139.npy', 'ID_150.npy', 'ID_151.npy', 'ID_153.npy',\n",
       "       'ID_154.npy', 'ID_160.npy', 'ID_172.npy', 'ID_174.npy',\n",
       "       'ID_176.npy', 'ID_180.npy', 'ID_184.npy', 'ID_190.npy',\n",
       "       'ID_204.npy', 'ID_205.npy', 'ID_209.npy', 'ID_213.npy',\n",
       "       'ID_220.npy', 'ID_221.npy', 'ID_226.npy', 'ID_227.npy',\n",
       "       'ID_229.npy', 'ID_235.npy', 'ID_237.npy', 'ID_242.npy',\n",
       "       'ID_245.npy', 'ID_249.npy', 'ID_258.npy', 'ID_264.npy',\n",
       "       'ID_268.npy', 'ID_286.npy', 'ID_288.npy', 'ID_289.npy',\n",
       "       'ID_301.npy', 'ID_307.npy', 'ID_309.npy', 'ID_320.npy',\n",
       "       'ID_323.npy', 'ID_326.npy', 'ID_329.npy', 'ID_335.npy',\n",
       "       'ID_340.npy', 'ID_341.npy', 'ID_356.npy', 'ID_361.npy',\n",
       "       'ID_373.npy', 'ID_383.npy', 'ID_391.npy', 'ID_404.npy',\n",
       "       'ID_409.npy', 'ID_414.npy', 'ID_416.npy', 'ID_426.npy',\n",
       "       'ID_430.npy', 'ID_435.npy', 'ID_444.npy', 'ID_456.npy',\n",
       "       'ID_458.npy', 'ID_459.npy', 'ID_463.npy', 'ID_464.npy',\n",
       "       'ID_476.npy', 'ID_477.npy', 'ID_480.npy', 'ID_483.npy'],\n",
       "      dtype='<U32')"
      ]
     },
     "execution_count": 59,
     "metadata": {},
     "output_type": "execute_result"
    }
   ],
   "source": [
    "np.unique(samples_train)[centers_agg == \"C_2\"]"
   ]
  },
  {
   "cell_type": "code",
   "execution_count": 29,
   "metadata": {},
   "outputs": [
    {
     "data": {
      "text/plain": [
       "1.0"
      ]
     },
     "execution_count": 29,
     "metadata": {},
     "output_type": "execute_result"
    }
   ],
   "source": [
    "roc_auc_score(y_agg[centers_agg == \"C_5\"], preds_rf[centers_agg == \"C_5\"])"
   ]
  },
  {
   "cell_type": "code",
   "execution_count": 32,
   "metadata": {},
   "outputs": [],
   "source": [
    "fpr, tpr, thresholds = roc_curve(y_agg[centers_agg == \"C_2\"], preds_rf[centers_agg == \"C_2\"])\n",
    "roc_auc = auc(fpr, tpr)\n",
    "display = RocCurveDisplay(fpr=fpr, tpr=tpr, roc_auc=roc_auc, estimator_name='example estimator')"
   ]
  },
  {
   "cell_type": "code",
   "execution_count": 33,
   "metadata": {},
   "outputs": [
    {
     "data": {
      "text/plain": [
       "<sklearn.metrics._plot.roc_curve.RocCurveDisplay at 0x7fb2b95b6c40>"
      ]
     },
     "execution_count": 33,
     "metadata": {},
     "output_type": "execute_result"
    },
    {
     "data": {
      "image/png": "[encoded data removed]",
      "text/plain": [
       "<Figure size 640x480 with 1 Axes>"
      ]
     },
     "metadata": {},
     "output_type": "display_data"
    }
   ],
   "source": [
    "display.plot()"
   ]
  },
  {
   "cell_type": "code",
   "execution_count": 72,
   "metadata": {},
   "outputs": [],
   "source": [
    "import matplotlib.pyplot as plt"
   ]
  },
  {
   "cell_type": "code",
   "execution_count": 81,
   "metadata": {},
   "outputs": [
    {
     "data": {
      "text/plain": [
       "6.038034915924072"
      ]
     },
     "execution_count": 81,
     "metadata": {},
     "output_type": "execute_result"
    }
   ],
   "source": [
    "np.max(X_train[centers_train == \"C_2\"])"
   ]
  },
  {
   "cell_type": "code",
   "execution_count": 80,
   "metadata": {},
   "outputs": [
    {
     "data": {
      "text/plain": [
       "5.32080078125"
      ]
     },
     "execution_count": 80,
     "metadata": {},
     "output_type": "execute_result"
    }
   ],
   "source": [
    "np.max(X_train[centers_train != \"C_2\"])"
   ]
  },
  {
   "cell_type": "code",
   "execution_count": 82,
   "metadata": {},
   "outputs": [
    {
     "data": {
      "text/plain": [
       "(array([1.700063e+08, 9.989573e+06, 3.904634e+06, 1.882486e+06,\n",
       "        1.016143e+06, 5.879740e+05, 3.574480e+05, 2.235540e+05,\n",
       "        1.450470e+05, 9.675400e+04, 6.628500e+04, 4.559600e+04,\n",
       "        3.085700e+04, 2.138600e+04, 1.406000e+04, 9.123000e+03,\n",
       "        6.070000e+03, 4.120000e+03, 2.698000e+03, 1.849000e+03,\n",
       "        1.286000e+03, 9.260000e+02, 5.780000e+02, 4.300000e+02,\n",
       "        2.550000e+02, 1.800000e+02, 1.380000e+02, 7.500000e+01,\n",
       "        5.000000e+01, 4.500000e+01, 1.700000e+01, 1.500000e+01,\n",
       "        1.100000e+01, 8.000000e+00, 6.000000e+00, 3.000000e+00,\n",
       "        2.000000e+00, 2.000000e+00, 1.000000e+00, 2.000000e+00,\n",
       "        1.000000e+00, 0.000000e+00, 1.000000e+00, 2.000000e+00,\n",
       "        2.000000e+00, 3.000000e+00, 1.000000e+00, 0.000000e+00,\n",
       "        2.000000e+00, 1.000000e+00]),\n",
       " array([0.        , 0.1207607 , 0.2415214 , 0.36228209, 0.48304279,\n",
       "        0.60380349, 0.72456419, 0.84532489, 0.96608559, 1.08684628,\n",
       "        1.20760698, 1.32836768, 1.44912838, 1.56988908, 1.69064978,\n",
       "        1.81141047, 1.93217117, 2.05293187, 2.17369257, 2.29445327,\n",
       "        2.41521397, 2.53597466, 2.65673536, 2.77749606, 2.89825676,\n",
       "        3.01901746, 3.13977816, 3.26053885, 3.38129955, 3.50206025,\n",
       "        3.62282095, 3.74358165, 3.86434235, 3.98510304, 4.10586374,\n",
       "        4.22662444, 4.34738514, 4.46814584, 4.58890654, 4.70966723,\n",
       "        4.83042793, 4.95118863, 5.07194933, 5.19271003, 5.31347073,\n",
       "        5.43423142, 5.55499212, 5.67575282, 5.79651352, 5.91727422,\n",
       "        6.03803492]),\n",
       " <BarContainer object of 50 artists>)"
      ]
     },
     "execution_count": 82,
     "metadata": {},
     "output_type": "execute_result"
    },
    {
     "data": {
      "image/png": "[encoded data removed]",
      "text/plain": [
       "<Figure size 640x480 with 1 Axes>"
      ]
     },
     "metadata": {},
     "output_type": "display_data"
    }
   ],
   "source": [
    "plt.hist(X_train[centers_train == \"C_2\"].flatten(), bins=50)"
   ]
  },
  {
   "cell_type": "code",
   "execution_count": 83,
   "metadata": {},
   "outputs": [
    {
     "data": {
      "text/plain": [
       "(array([1.700063e+08, 9.989573e+06, 3.904634e+06, 1.882486e+06,\n",
       "        1.016143e+06, 5.879740e+05, 3.574480e+05, 2.235540e+05,\n",
       "        1.450470e+05, 9.675400e+04, 6.628500e+04, 4.559600e+04,\n",
       "        3.085700e+04, 2.138600e+04, 1.406000e+04, 9.123000e+03,\n",
       "        6.070000e+03, 4.120000e+03, 2.698000e+03, 1.849000e+03,\n",
       "        1.286000e+03, 9.260000e+02, 5.780000e+02, 4.300000e+02,\n",
       "        2.550000e+02, 1.800000e+02, 1.380000e+02, 7.500000e+01,\n",
       "        5.000000e+01, 4.500000e+01, 1.700000e+01, 1.500000e+01,\n",
       "        1.100000e+01, 8.000000e+00, 6.000000e+00, 3.000000e+00,\n",
       "        2.000000e+00, 2.000000e+00, 1.000000e+00, 2.000000e+00,\n",
       "        1.000000e+00, 0.000000e+00, 1.000000e+00, 2.000000e+00,\n",
       "        2.000000e+00, 3.000000e+00, 1.000000e+00, 0.000000e+00,\n",
       "        2.000000e+00, 1.000000e+00]),\n",
       " array([0.        , 0.1207607 , 0.2415214 , 0.36228209, 0.48304279,\n",
       "        0.60380349, 0.72456419, 0.84532489, 0.96608559, 1.08684628,\n",
       "        1.20760698, 1.32836768, 1.44912838, 1.56988908, 1.69064978,\n",
       "        1.81141047, 1.93217117, 2.05293187, 2.17369257, 2.29445327,\n",
       "        2.41521397, 2.53597466, 2.65673536, 2.77749606, 2.89825676,\n",
       "        3.01901746, 3.13977816, 3.26053885, 3.38129955, 3.50206025,\n",
       "        3.62282095, 3.74358165, 3.86434235, 3.98510304, 4.10586374,\n",
       "        4.22662444, 4.34738514, 4.46814584, 4.58890654, 4.70966723,\n",
       "        4.83042793, 4.95118863, 5.07194933, 5.19271003, 5.31347073,\n",
       "        5.43423142, 5.55499212, 5.67575282, 5.79651352, 5.91727422,\n",
       "        6.03803492]),\n",
       " <BarContainer object of 50 artists>)"
      ]
     },
     "execution_count": 83,
     "metadata": {},
     "output_type": "execute_result"
    },
    {
     "data": {
      "image/png": "[encoded data removed]",
      "text/plain": [
       "<Figure size 640x480 with 1 Axes>"
      ]
     },
     "metadata": {},
     "output_type": "display_data"
    }
   ],
   "source": [
    "plt.hist(X_train[centers_train == \"C_2\"].flatten(), bins=50)"
   ]
  },
  {
   "cell_type": "code",
   "execution_count": null,
   "metadata": {},
   "outputs": [],
   "source": []
  },
  {
   "cell_type": "code",
   "execution_count": 27,
   "metadata": {},
   "outputs": [],
   "source": [
    "preds_c1_c2 = lrs_rf[1].predict_proba(X_train)[:, 1]\n",
    "preds_c1_c2 = trfs.pred_aggregation(preds_c1_c2, samples_train, \"mean_25\")"
   ]
  },
  {
   "cell_type": "code",
   "execution_count": 28,
   "metadata": {},
   "outputs": [
    {
     "data": {
      "text/plain": [
       "<sklearn.metrics._plot.confusion_matrix.ConfusionMatrixDisplay at 0x7fb0c9440e50>"
      ]
     },
     "execution_count": 28,
     "metadata": {},
     "output_type": "execute_result"
    },
    {
     "data": {
      "image/png": "[encoded data removed]",
      "text/plain": [
       "<Figure size 640x480 with 2 Axes>"
      ]
     },
     "metadata": {},
     "output_type": "display_data"
    }
   ],
   "source": [
    "cm = confusion_matrix(y_agg, preds_c1_c2 > 0.5)\n",
    "disp = ConfusionMatrixDisplay(cm)\n",
    "disp.plot()"
   ]
  },
  {
   "cell_type": "code",
   "execution_count": 29,
   "metadata": {},
   "outputs": [
    {
     "data": {
      "text/plain": [
       "array([0.18972, 0.53644, 0.17852, 0.1916 , 0.51704, 0.16444, 0.48344,\n",
       "       0.1702 , 0.17136, 0.4836 , 0.48632, 0.2024 , 0.17388, 0.8658 ,\n",
       "       0.85788, 0.17904, 0.39008, 0.86284, 0.83092, 0.83496, 0.8302 ,\n",
       "       0.14468, 0.53204, 0.45696, 0.17556, 0.20164, 0.86176, 0.14448,\n",
       "       0.52248, 0.20624, 0.46968, 0.85324, 0.16076, 0.15728, 0.83784,\n",
       "       0.84924, 0.20764, 0.16236, 0.16992, 0.15052, 0.41536, 0.40728,\n",
       "       0.19856, 0.43268, 0.15692, 0.85016, 0.87252, 0.857  , 0.17904,\n",
       "       0.17084, 0.83568, 0.83816, 0.84444, 0.86968, 0.53552, 0.20004,\n",
       "       0.8746 , 0.19084, 0.55048, 0.85616, 0.87388, 0.18872, 0.15264,\n",
       "       0.40424, 0.85708, 0.18144, 0.18084, 0.86248, 0.16656, 0.40184,\n",
       "       0.86176, 0.48652, 0.19836, 0.17132, 0.15348, 0.18524, 0.48272,\n",
       "       0.19512, 0.17056, 0.51416, 0.85836, 0.13072, 0.5148 , 0.48544,\n",
       "       0.16688, 0.8632 , 0.18056, 0.4476 , 0.42752, 0.84916, 0.86232,\n",
       "       0.5208 , 0.46616, 0.19952, 0.44296, 0.88036, 0.21356, 0.88036,\n",
       "       0.184  , 0.41356, 0.48816, 0.2078 , 0.86556, 0.16304, 0.84784,\n",
       "       0.8864 , 0.50384, 0.47532, 0.48012, 0.5024 , 0.13952, 0.1862 ,\n",
       "       0.42236, 0.21624, 0.85132, 0.15512, 0.19624, 0.17768, 0.86972,\n",
       "       0.8858 , 0.128  , 0.1648 , 0.53732, 0.86524, 0.46104, 0.50028,\n",
       "       0.8586 , 0.19688, 0.4788 , 0.15972, 0.41272, 0.18268, 0.17488,\n",
       "       0.16196, 0.15568, 0.4804 , 0.20224, 0.18316, 0.17552, 0.1868 ,\n",
       "       0.85768, 0.1536 , 0.17152, 0.87672, 0.49592, 0.52956, 0.18488,\n",
       "       0.52324, 0.85884, 0.4122 , 0.20184, 0.1596 , 0.16776, 0.50464,\n",
       "       0.51388, 0.43648, 0.45768, 0.14748, 0.46604, 0.12196, 0.84688,\n",
       "       0.88448, 0.4432 , 0.20352, 0.4192 , 0.1644 , 0.8538 , 0.4398 ,\n",
       "       0.16168, 0.18228, 0.41188, 0.85448, 0.41912, 0.85792, 0.88856,\n",
       "       0.86268, 0.16828, 0.1696 , 0.17508, 0.44328, 0.21896, 0.17748,\n",
       "       0.8388 , 0.50768, 0.84708, 0.15372, 0.56268, 0.15304, 0.17156,\n",
       "       0.88472, 0.20968, 0.85816, 0.1544 , 0.83796, 0.17096, 0.18116,\n",
       "       0.19016, 0.19028, 0.42536, 0.17012, 0.47952, 0.43628, 0.18744,\n",
       "       0.21272, 0.89044, 0.89032, 0.20812, 0.48744, 0.86704, 0.154  ,\n",
       "       0.1828 , 0.5558 , 0.162  , 0.38312, 0.82944, 0.18496, 0.17212,\n",
       "       0.85928, 0.93264, 0.21284, 0.83548, 0.45192, 0.839  , 0.57012,\n",
       "       0.17408, 0.15296, 0.40916, 0.85852, 0.17136, 0.45868, 0.82892,\n",
       "       0.16876, 0.47876, 0.16756, 0.15216, 0.40524, 0.4712 , 0.86868,\n",
       "       0.16188, 0.84484, 0.8596 , 0.8646 , 0.8458 , 0.16056, 0.15372,\n",
       "       0.19716, 0.86304, 0.42764, 0.18372, 0.17184, 0.43048, 0.88016,\n",
       "       0.14348, 0.84108, 0.2088 , 0.17052, 0.17856, 0.16336, 0.86296,\n",
       "       0.82892, 0.47836, 0.17228, 0.14112, 0.19296, 0.43952, 0.17012,\n",
       "       0.20664, 0.4456 , 0.16728, 0.18188, 0.20068, 0.12364, 0.17828,\n",
       "       0.17236, 0.84336, 0.19072, 0.4668 , 0.8188 , 0.8564 , 0.1594 ,\n",
       "       0.46252, 0.16596, 0.89032, 0.846  , 0.4982 , 0.8642 , 0.4406 ,\n",
       "       0.85928, 0.17976, 0.15696, 0.84624, 0.86372, 0.15744, 0.48888,\n",
       "       0.8638 , 0.44096, 0.86744, 0.15656, 0.18492, 0.87856, 0.55456,\n",
       "       0.87776, 0.86356, 0.17272, 0.88372, 0.15596, 0.83248, 0.47332,\n",
       "       0.18028, 0.18864, 0.15472, 0.83716, 0.16504, 0.17732, 0.14312,\n",
       "       0.44764, 0.45872, 0.4616 , 0.16384, 0.18008, 0.2022 , 0.39832,\n",
       "       0.43708, 0.1848 , 0.17352, 0.903  , 0.85464, 0.8738 , 0.17044,\n",
       "       0.18756, 0.16492, 0.41052, 0.44036, 0.15104, 0.17568, 0.58888,\n",
       "       0.19844, 0.45856, 0.88208, 0.84368, 0.18076, 0.16056, 0.85964,\n",
       "       0.15904])"
      ]
     },
     "execution_count": 29,
     "metadata": {},
     "output_type": "execute_result"
    }
   ],
   "source": [
    "preds_c1_c2"
   ]
  },
  {
   "cell_type": "code",
   "execution_count": null,
   "metadata": {},
   "outputs": [],
   "source": []
  },
  {
   "cell_type": "code",
   "execution_count": 13,
   "metadata": {},
   "outputs": [],
   "source": [
    "X_test, _, _, samples_test = trfs.load_mocov_test_data(data_path=data_path, tile_averaging=False)"
   ]
  },
  {
   "cell_type": "code",
   "execution_count": 14,
   "metadata": {},
   "outputs": [],
   "source": [
    "preds_test_rf = 0\n",
    "# loop over the classifiers\n",
    "for lr in lrs_rf[1]:\n",
    "    temp = lr.predict_proba(X_test)[:, 1]\n",
    "    temp = trfs.pred_aggregation(temp, samples_test)\n",
    "    preds_test_rf += temp\n",
    "\n",
    "# and take the average (ensembling technique)\n",
    "preds_test_rf = preds_test_rf / len(lrs_rf)"
   ]
  },
  {
   "cell_type": "code",
   "execution_count": 15,
   "metadata": {},
   "outputs": [
    {
     "data": {
      "text/plain": [
       "array([0.42681, 0.43331, 0.41044, 0.39459, 0.3822 , 0.44525, 0.32808,\n",
       "       0.4629 , 0.41758, 0.37387, 0.40143, 0.42716, 0.40299, 0.4024 ,\n",
       "       0.41346, 0.40397, 0.39545, 0.42455, 0.41951, 0.45534, 0.44258,\n",
       "       0.40635, 0.38312, 0.42636, 0.47227, 0.45011, 0.45919, 0.4004 ,\n",
       "       0.45874, 0.44005, 0.38679, 0.43987, 0.40916, 0.43139, 0.40918,\n",
       "       0.45586, 0.41602, 0.32865, 0.40595, 0.41999, 0.42295, 0.40772,\n",
       "       0.38997, 0.37306, 0.34815, 0.35706, 0.38872, 0.45127, 0.37635,\n",
       "       0.38863, 0.43718, 0.43497, 0.41453, 0.41812, 0.46918, 0.42798,\n",
       "       0.44499, 0.42596, 0.41523, 0.37707, 0.46335, 0.4066 , 0.39114,\n",
       "       0.43058, 0.44   , 0.38759, 0.39214, 0.44648, 0.42182, 0.43233,\n",
       "       0.40516, 0.44745, 0.40212, 0.45049, 0.41152, 0.38658, 0.40764,\n",
       "       0.42523, 0.44389, 0.39969, 0.4426 , 0.45447, 0.41842, 0.42014,\n",
       "       0.41359, 0.39711, 0.4386 , 0.42099, 0.47119, 0.45505, 0.38467,\n",
       "       0.45191, 0.41768, 0.46042, 0.34102, 0.47198, 0.41537, 0.44037,\n",
       "       0.41793, 0.42812, 0.29328, 0.41032, 0.40461, 0.45515, 0.41533,\n",
       "       0.41251, 0.44624, 0.44671, 0.38189, 0.43741, 0.32301, 0.4586 ,\n",
       "       0.4436 , 0.45255, 0.38932, 0.3797 , 0.39754, 0.38985, 0.42139,\n",
       "       0.41621, 0.37423, 0.35836, 0.4207 , 0.42611, 0.32366, 0.39753,\n",
       "       0.3346 , 0.34727, 0.3868 , 0.47179, 0.44048, 0.40347, 0.403  ,\n",
       "       0.45212, 0.46941, 0.42759, 0.45246, 0.4144 , 0.45315, 0.37217,\n",
       "       0.35615, 0.40362, 0.41456, 0.4037 , 0.41383, 0.37699, 0.4026 ,\n",
       "       0.42843, 0.39796])"
      ]
     },
     "execution_count": 15,
     "metadata": {},
     "output_type": "execute_result"
    }
   ],
   "source": [
    "preds_test_rf"
   ]
  },
  {
   "cell_type": "code",
   "execution_count": 16,
   "metadata": {},
   "outputs": [],
   "source": [
    "preds_test_log = 0\n",
    "# loop over the classifiers\n",
    "for lr in lrs_log:\n",
    "    temp = lr.predict_proba(X_test)[:, 1]\n",
    "    temp = trfs.pred_aggregation(temp, samples_test)\n",
    "    preds_test_log += temp\n",
    "\n",
    "# and take the average (ensembling technique)\n",
    "preds_test_log = preds_test_log / len(lrs_rf)"
   ]
  },
  {
   "cell_type": "code",
   "execution_count": 17,
   "metadata": {},
   "outputs": [
    {
     "data": {
      "text/plain": [
       "array([0.36281314, 0.43611364, 0.11246348, 0.15196188, 0.25686479,\n",
       "       0.55012678, 0.21980187, 0.13182645, 0.15240981, 0.27677939,\n",
       "       0.31679578, 0.47769713, 0.24510159, 0.31643288, 0.17005777,\n",
       "       0.46334199, 0.43105343, 0.34437435, 0.24018544, 0.34502344,\n",
       "       0.15699355, 0.0914849 , 0.28476429, 0.3681663 , 0.33343485,\n",
       "       0.19844309, 0.68696427, 0.29801671, 0.11267948, 0.36397226,\n",
       "       0.16459175, 0.38684487, 0.38309683, 0.43592439, 0.4346609 ,\n",
       "       0.2931529 , 0.12897563, 0.16527815, 0.10398579, 0.45241452,\n",
       "       0.08546659, 0.25432325, 0.38084288, 0.43243093, 0.26033849,\n",
       "       0.25088036, 0.20864713, 0.28268316, 0.31415273, 0.42270337,\n",
       "       0.54854492, 0.15537266, 0.24507737, 0.54526763, 0.58926403,\n",
       "       0.49655408, 0.20641271, 0.05494983, 0.43619774, 0.24406835,\n",
       "       0.24443036, 0.23414964, 0.34489668, 0.54470318, 0.29202285,\n",
       "       0.38489642, 0.49018977, 0.5261083 , 0.19452496, 0.5496236 ,\n",
       "       0.35569364, 0.5495472 , 0.32843359, 0.35331309, 0.09029915,\n",
       "       0.34558274, 0.42968636, 0.29243557, 0.35123342, 0.1782517 ,\n",
       "       0.53126795, 0.33188167, 0.18437004, 0.45501937, 0.2301182 ,\n",
       "       0.08585894, 0.10495417, 0.38768097, 0.61058749, 0.22031199,\n",
       "       0.05914028, 0.53484734, 0.11137456, 0.26836207, 0.19746763,\n",
       "       0.33035977, 0.41471089, 0.18644363, 0.12380072, 0.18098061,\n",
       "       0.17293394, 0.25292998, 0.43130271, 0.65179785, 0.2149757 ,\n",
       "       0.15073123, 0.2992911 , 0.58667681, 0.30590105, 0.16469443,\n",
       "       0.25095428, 0.54688259, 0.58370764, 0.2630233 , 0.2675733 ,\n",
       "       0.41084611, 0.05724701, 0.23435513, 0.16018926, 0.26778314,\n",
       "       0.24050411, 0.23758684, 0.07975656, 0.44065304, 0.24247239,\n",
       "       0.34061185, 0.3004237 , 0.2241784 , 0.18955543, 0.32887378,\n",
       "       0.39630981, 0.39169394, 0.49801831, 0.55846103, 0.42096226,\n",
       "       0.41228789, 0.34587717, 0.06679779, 0.50369542, 0.18083099,\n",
       "       0.32172496, 0.17049272, 0.37973738, 0.21573566, 0.44772931,\n",
       "       0.27571067, 0.23124255, 0.27252825, 0.43504105])"
      ]
     },
     "execution_count": 17,
     "metadata": {},
     "output_type": "execute_result"
    }
   ],
   "source": [
    "preds_test_log"
   ]
  },
  {
   "cell_type": "code",
   "execution_count": null,
   "metadata": {},
   "outputs": [],
   "source": []
  },
  {
   "cell_type": "code",
   "execution_count": 18,
   "metadata": {},
   "outputs": [],
   "source": [
    "from sklearn.preprocessing import StandardScaler\n",
    "scaler = StandardScaler()\n",
    "scaler.fit(X_train)\n",
    "X_scaled = scaler.transform(X_train)"
   ]
  },
  {
   "cell_type": "code",
   "execution_count": 19,
   "metadata": {},
   "outputs": [
    {
     "data": {
      "text/html": [
       "<style>#sk-container-id-1 {color: black;background-color: white;}#sk-container-id-1 pre{padding: 0;}#sk-container-id-1 div.sk-toggleable {background-color: white;}#sk-container-id-1 label.sk-toggleable__label {cursor: pointer;display: block;width: 100%;margin-bottom: 0;padding: 0.3em;box-sizing: border-box;text-align: center;}#sk-container-id-1 label.sk-toggleable__label-arrow:before {content: \"▸\";float: left;margin-right: 0.25em;color: #696969;}#sk-container-id-1 label.sk-toggleable__label-arrow:hover:before {color: black;}#sk-container-id-1 div.sk-estimator:hover label.sk-toggleable__label-arrow:before {color: black;}#sk-container-id-1 div.sk-toggleable__content {max-height: 0;max-width: 0;overflow: hidden;text-align: left;background-color: #f0f8ff;}#sk-container-id-1 div.sk-toggleable__content pre {margin: 0.2em;color: black;border-radius: 0.25em;background-color: #f0f8ff;}#sk-container-id-1 input.sk-toggleable__control:checked~div.sk-toggleable__content {max-height: 200px;max-width: 100%;overflow: auto;}#sk-container-id-1 input.sk-toggleable__control:checked~label.sk-toggleable__label-arrow:before {content: \"▾\";}#sk-container-id-1 div.sk-estimator input.sk-toggleable__control:checked~label.sk-toggleable__label {background-color: #d4ebff;}#sk-container-id-1 div.sk-label input.sk-toggleable__control:checked~label.sk-toggleable__label {background-color: #d4ebff;}#sk-container-id-1 input.sk-hidden--visually {border: 0;clip: rect(1px 1px 1px 1px);clip: rect(1px, 1px, 1px, 1px);height: 1px;margin: -1px;overflow: hidden;padding: 0;position: absolute;width: 1px;}#sk-container-id-1 div.sk-estimator {font-family: monospace;background-color: #f0f8ff;border: 1px dotted black;border-radius: 0.25em;box-sizing: border-box;margin-bottom: 0.5em;}#sk-container-id-1 div.sk-estimator:hover {background-color: #d4ebff;}#sk-container-id-1 div.sk-parallel-item::after {content: \"\";width: 100%;border-bottom: 1px solid gray;flex-grow: 1;}#sk-container-id-1 div.sk-label:hover label.sk-toggleable__label {background-color: #d4ebff;}#sk-container-id-1 div.sk-serial::before {content: \"\";position: absolute;border-left: 1px solid gray;box-sizing: border-box;top: 0;bottom: 0;left: 50%;z-index: 0;}#sk-container-id-1 div.sk-serial {display: flex;flex-direction: column;align-items: center;background-color: white;padding-right: 0.2em;padding-left: 0.2em;position: relative;}#sk-container-id-1 div.sk-item {position: relative;z-index: 1;}#sk-container-id-1 div.sk-parallel {display: flex;align-items: stretch;justify-content: center;background-color: white;position: relative;}#sk-container-id-1 div.sk-item::before, #sk-container-id-1 div.sk-parallel-item::before {content: \"\";position: absolute;border-left: 1px solid gray;box-sizing: border-box;top: 0;bottom: 0;left: 50%;z-index: -1;}#sk-container-id-1 div.sk-parallel-item {display: flex;flex-direction: column;z-index: 1;position: relative;background-color: white;}#sk-container-id-1 div.sk-parallel-item:first-child::after {align-self: flex-end;width: 50%;}#sk-container-id-1 div.sk-parallel-item:last-child::after {align-self: flex-start;width: 50%;}#sk-container-id-1 div.sk-parallel-item:only-child::after {width: 0;}#sk-container-id-1 div.sk-dashed-wrapped {border: 1px dashed gray;margin: 0 0.4em 0.5em 0.4em;box-sizing: border-box;padding-bottom: 0.4em;background-color: white;}#sk-container-id-1 div.sk-label label {font-family: monospace;font-weight: bold;display: inline-block;line-height: 1.2em;}#sk-container-id-1 div.sk-label-container {text-align: center;}#sk-container-id-1 div.sk-container {/* jupyter's `normalize.less` sets `[hidden] { display: none; }` but bootstrap.min.css set `[hidden] { display: none !important; }` so we also need the `!important` here to be able to override the default hidden behavior on the sphinx rendered scikit-learn.org. See: https://github.com/scikit-learn/scikit-learn/issues/21755 */display: inline-block !important;position: relative;}#sk-container-id-1 div.sk-text-repr-fallback {display: none;}</style><div id=\"sk-container-id-1\" class=\"sk-top-container\"><div class=\"sk-text-repr-fallback\"><pre>PCA(n_components=50)</pre><b>In a Jupyter environment, please rerun this cell to show the HTML representation or trust the notebook. <br />On GitHub, the HTML representation is unable to render, please try loading this page with nbviewer.org.</b></div><div class=\"sk-container\" hidden><div class=\"sk-item\"><div class=\"sk-estimator sk-toggleable\"><input class=\"sk-toggleable__control sk-hidden--visually\" id=\"sk-estimator-id-1\" type=\"checkbox\" checked><label for=\"sk-estimator-id-1\" class=\"sk-toggleable__label sk-toggleable__label-arrow\">PCA</label><div class=\"sk-toggleable__content\"><pre>PCA(n_components=50)</pre></div></div></div></div></div>"
      ],
      "text/plain": [
       "PCA(n_components=50)"
      ]
     },
     "execution_count": 19,
     "metadata": {},
     "output_type": "execute_result"
    }
   ],
   "source": [
    "from sklearn.decomposition import PCA\n",
    "pca = PCA(n_components=50)\n",
    "pca.fit(X_scaled)"
   ]
  },
  {
   "cell_type": "code",
   "execution_count": 20,
   "metadata": {},
   "outputs": [
    {
     "name": "stdout",
     "output_type": "stream",
     "text": [
      "[0.04742969 0.03268537 0.02661569 0.02513273 0.02095062 0.01942504\n",
      " 0.01625628 0.01421645 0.01338424 0.01324946 0.01185965 0.01139824\n",
      " 0.01017145 0.00987684 0.00880216 0.00853812 0.00796318 0.00789978\n",
      " 0.00733101 0.00706129 0.00659091 0.00651307 0.0064221  0.00621356\n",
      " 0.00599324 0.00583518 0.00568127 0.00526514 0.00517483 0.00514884\n",
      " 0.00497553 0.00489021 0.00476209 0.00460929 0.00443901 0.0043898\n",
      " 0.00426101 0.00419162 0.0041176  0.00396776 0.00379649 0.00374188\n",
      " 0.00368724 0.00361999 0.00346024 0.00342616 0.00338166 0.00323423\n",
      " 0.00315436 0.00311857]\n"
     ]
    }
   ],
   "source": [
    "print(pca.explained_variance_ratio_)"
   ]
  },
  {
   "cell_type": "code",
   "execution_count": 21,
   "metadata": {},
   "outputs": [],
   "source": [
    "X_PCA = pca.transform(X_train)"
   ]
  },
  {
   "cell_type": "code",
   "execution_count": 22,
   "metadata": {},
   "outputs": [
    {
     "name": "stdout",
     "output_type": "stream",
     "text": [
      "AUC on split 0 validation center C_1: Train - 1.000, Val - 0.623\n",
      "AUC on split 0 validation center C_5: Train - 1.000, Val - 0.610\n",
      "AUC on split 0 validation center C_2: Train - 1.000, Val - 0.600\n",
      "----------------------------\n",
      "5-fold cross-validated AUC averaged over 1 repeats: 0.611 (0.009)\n"
     ]
    }
   ],
   "source": [
    "estimator = trfs.get_tabular_estimator(\"RF\")\n",
    "lrs_rf_PCA = trfs.train_mocov_features(\n",
    "    estimator,\n",
    "    X_PCA,\n",
    "    y_train,\n",
    "    patients_unique,\n",
    "    y_unique,\n",
    "    patients_train,\n",
    "    samples_train,\n",
    "    centers_train,\n",
    "    agg_by=\"mean\",\n",
    "    tile_avg=False,\n",
    "    subsampling=False,\n",
    ")"
   ]
  },
  {
   "cell_type": "code",
   "execution_count": 23,
   "metadata": {},
   "outputs": [],
   "source": [
    "preds_rf = 0\n",
    "# loop over the classifiers\n",
    "for lr in lrs_rf_PCA:\n",
    "    temp = lr.predict_proba(X_PCA)[:, 1]\n",
    "    temp = trfs.pred_aggregation(temp, samples_train)\n",
    "    preds_rf += temp\n",
    "\n",
    "# and take the average (ensembling technique)\n",
    "preds_rf = preds_rf / len(lrs_rf_PCA)"
   ]
  },
  {
   "cell_type": "code",
   "execution_count": 24,
   "metadata": {},
   "outputs": [
    {
     "data": {
      "text/plain": [
       "<sklearn.metrics._plot.confusion_matrix.ConfusionMatrixDisplay at 0x7f965ca70fd0>"
      ]
     },
     "execution_count": 24,
     "metadata": {},
     "output_type": "execute_result"
    },
    {
     "data": {
      "image/png": "[encoded data removed]",
      "text/plain": [
       "<Figure size 640x480 with 2 Axes>"
      ]
     },
     "metadata": {},
     "output_type": "display_data"
    }
   ],
   "source": [
    "cm = confusion_matrix(y_agg, preds_rf > 0.5)\n",
    "disp = ConfusionMatrixDisplay(cm)\n",
    "disp.plot()"
   ]
  },
  {
   "cell_type": "code",
   "execution_count": null,
   "metadata": {},
   "outputs": [],
   "source": []
  },
  {
   "cell_type": "code",
   "execution_count": 25,
   "metadata": {},
   "outputs": [
    {
     "name": "stdout",
     "output_type": "stream",
     "text": [
      "AUC on split 0 validation center C_1: Train - 0.824, Val - 0.621\n",
      "AUC on split 0 validation center C_5: Train - 0.799, Val - 0.631\n",
      "AUC on split 0 validation center C_2: Train - 0.807, Val - 0.609\n",
      "----------------------------\n",
      "5-fold cross-validated AUC averaged over 1 repeats: 0.620 (0.009)\n"
     ]
    }
   ],
   "source": [
    "estimator = trfs.get_tabular_estimator(\"LogReg\")\n",
    "lrs_lr_PCA = trfs.train_mocov_features(\n",
    "    estimator,\n",
    "    X_PCA,\n",
    "    y_train,\n",
    "    patients_unique,\n",
    "    y_unique,\n",
    "    patients_train,\n",
    "    samples_train,\n",
    "    centers_train,\n",
    "    agg_by=\"mean\",\n",
    "    tile_avg=False,\n",
    "    subsampling=False,\n",
    ")"
   ]
  },
  {
   "cell_type": "code",
   "execution_count": 26,
   "metadata": {},
   "outputs": [],
   "source": [
    "preds_log = 0\n",
    "# loop over the classifiers\n",
    "for lr in lrs_lr_PCA:\n",
    "    temp = lr.predict_proba(X_PCA)[:, 1]\n",
    "    temp = trfs.pred_aggregation(temp, samples_train)\n",
    "    preds_log += temp\n",
    "\n",
    "# and take the average (ensembling technique)\n",
    "preds_log = preds_log / len(lrs_lr_PCA)"
   ]
  },
  {
   "cell_type": "code",
   "execution_count": 27,
   "metadata": {},
   "outputs": [
    {
     "data": {
      "text/plain": [
       "<sklearn.metrics._plot.confusion_matrix.ConfusionMatrixDisplay at 0x7f9969169100>"
      ]
     },
     "execution_count": 27,
     "metadata": {},
     "output_type": "execute_result"
    },
    {
     "data": {
      "image/png": "[encoded data removed]",
      "text/plain": [
       "<Figure size 640x480 with 2 Axes>"
      ]
     },
     "metadata": {},
     "output_type": "display_data"
    }
   ],
   "source": [
    "cm = confusion_matrix(y_agg, preds_log > 0.5)\n",
    "disp = ConfusionMatrixDisplay(cm)\n",
    "disp.plot()"
   ]
  },
  {
   "cell_type": "code",
   "execution_count": null,
   "metadata": {},
   "outputs": [],
   "source": []
  },
  {
   "cell_type": "code",
   "execution_count": null,
   "metadata": {},
   "outputs": [],
   "source": []
  },
  {
   "cell_type": "code",
   "execution_count": null,
   "metadata": {},
   "outputs": [],
   "source": []
  },
  {
   "cell_type": "code",
   "execution_count": null,
   "metadata": {},
   "outputs": [],
   "source": []
  },
  {
   "attachments": {},
   "cell_type": "markdown",
   "metadata": {},
   "source": [
    "## Creating classifiers with training samples of only one center"
   ]
  },
  {
   "cell_type": "code",
   "execution_count": 12,
   "metadata": {},
   "outputs": [
    {
     "data": {
      "text/html": [
       "<style>#sk-container-id-1 {color: black;background-color: white;}#sk-container-id-1 pre{padding: 0;}#sk-container-id-1 div.sk-toggleable {background-color: white;}#sk-container-id-1 label.sk-toggleable__label {cursor: pointer;display: block;width: 100%;margin-bottom: 0;padding: 0.3em;box-sizing: border-box;text-align: center;}#sk-container-id-1 label.sk-toggleable__label-arrow:before {content: \"▸\";float: left;margin-right: 0.25em;color: #696969;}#sk-container-id-1 label.sk-toggleable__label-arrow:hover:before {color: black;}#sk-container-id-1 div.sk-estimator:hover label.sk-toggleable__label-arrow:before {color: black;}#sk-container-id-1 div.sk-toggleable__content {max-height: 0;max-width: 0;overflow: hidden;text-align: left;background-color: #f0f8ff;}#sk-container-id-1 div.sk-toggleable__content pre {margin: 0.2em;color: black;border-radius: 0.25em;background-color: #f0f8ff;}#sk-container-id-1 input.sk-toggleable__control:checked~div.sk-toggleable__content {max-height: 200px;max-width: 100%;overflow: auto;}#sk-container-id-1 input.sk-toggleable__control:checked~label.sk-toggleable__label-arrow:before {content: \"▾\";}#sk-container-id-1 div.sk-estimator input.sk-toggleable__control:checked~label.sk-toggleable__label {background-color: #d4ebff;}#sk-container-id-1 div.sk-label input.sk-toggleable__control:checked~label.sk-toggleable__label {background-color: #d4ebff;}#sk-container-id-1 input.sk-hidden--visually {border: 0;clip: rect(1px 1px 1px 1px);clip: rect(1px, 1px, 1px, 1px);height: 1px;margin: -1px;overflow: hidden;padding: 0;position: absolute;width: 1px;}#sk-container-id-1 div.sk-estimator {font-family: monospace;background-color: #f0f8ff;border: 1px dotted black;border-radius: 0.25em;box-sizing: border-box;margin-bottom: 0.5em;}#sk-container-id-1 div.sk-estimator:hover {background-color: #d4ebff;}#sk-container-id-1 div.sk-parallel-item::after {content: \"\";width: 100%;border-bottom: 1px solid gray;flex-grow: 1;}#sk-container-id-1 div.sk-label:hover label.sk-toggleable__label {background-color: #d4ebff;}#sk-container-id-1 div.sk-serial::before {content: \"\";position: absolute;border-left: 1px solid gray;box-sizing: border-box;top: 0;bottom: 0;left: 50%;z-index: 0;}#sk-container-id-1 div.sk-serial {display: flex;flex-direction: column;align-items: center;background-color: white;padding-right: 0.2em;padding-left: 0.2em;position: relative;}#sk-container-id-1 div.sk-item {position: relative;z-index: 1;}#sk-container-id-1 div.sk-parallel {display: flex;align-items: stretch;justify-content: center;background-color: white;position: relative;}#sk-container-id-1 div.sk-item::before, #sk-container-id-1 div.sk-parallel-item::before {content: \"\";position: absolute;border-left: 1px solid gray;box-sizing: border-box;top: 0;bottom: 0;left: 50%;z-index: -1;}#sk-container-id-1 div.sk-parallel-item {display: flex;flex-direction: column;z-index: 1;position: relative;background-color: white;}#sk-container-id-1 div.sk-parallel-item:first-child::after {align-self: flex-end;width: 50%;}#sk-container-id-1 div.sk-parallel-item:last-child::after {align-self: flex-start;width: 50%;}#sk-container-id-1 div.sk-parallel-item:only-child::after {width: 0;}#sk-container-id-1 div.sk-dashed-wrapped {border: 1px dashed gray;margin: 0 0.4em 0.5em 0.4em;box-sizing: border-box;padding-bottom: 0.4em;background-color: white;}#sk-container-id-1 div.sk-label label {font-family: monospace;font-weight: bold;display: inline-block;line-height: 1.2em;}#sk-container-id-1 div.sk-label-container {text-align: center;}#sk-container-id-1 div.sk-container {/* jupyter's `normalize.less` sets `[hidden] { display: none; }` but bootstrap.min.css set `[hidden] { display: none !important; }` so we also need the `!important` here to be able to override the default hidden behavior on the sphinx rendered scikit-learn.org. See: https://github.com/scikit-learn/scikit-learn/issues/21755 */display: inline-block !important;position: relative;}#sk-container-id-1 div.sk-text-repr-fallback {display: none;}</style><div id=\"sk-container-id-1\" class=\"sk-top-container\"><div class=\"sk-text-repr-fallback\"><pre>RandomForestClassifier(n_jobs=6)</pre><b>In a Jupyter environment, please rerun this cell to show the HTML representation or trust the notebook. <br />On GitHub, the HTML representation is unable to render, please try loading this page with nbviewer.org.</b></div><div class=\"sk-container\" hidden><div class=\"sk-item\"><div class=\"sk-estimator sk-toggleable\"><input class=\"sk-toggleable__control sk-hidden--visually\" id=\"sk-estimator-id-1\" type=\"checkbox\" checked><label for=\"sk-estimator-id-1\" class=\"sk-toggleable__label sk-toggleable__label-arrow\">RandomForestClassifier</label><div class=\"sk-toggleable__content\"><pre>RandomForestClassifier(n_jobs=6)</pre></div></div></div></div></div>"
      ],
      "text/plain": [
       "RandomForestClassifier(n_jobs=6)"
      ]
     },
     "execution_count": 12,
     "metadata": {},
     "output_type": "execute_result"
    }
   ],
   "source": [
    "estimator_C_2 = trfs.get_tabular_estimator(\"RF\")\n",
    "estimator_C_2.fit(X_train[centers_train == \"C_2\"], y_train[centers_train == \"C_2\"])"
   ]
  },
  {
   "cell_type": "code",
   "execution_count": 14,
   "metadata": {},
   "outputs": [],
   "source": [
    "preds_train_c_2 = estimator_C_2.predict_proba(X_train[centers_train == \"C_2\"])[:, 1]\n",
    "preds_train_c_2 = trfs.pred_aggregation(preds_train_c_2, samples_train[centers_train == \"C_2\"])\n",
    "\n",
    "preds_val_2_1 = estimator_C_2.predict_proba(X_train[centers_train == \"C_1\"])[:, 1]\n",
    "preds_val_2_1 = trfs.pred_aggregation(preds_val_2_1, samples_train[centers_train == \"C_1\"])\n",
    "\n",
    "preds_val_2_5 = estimator_C_2.predict_proba(X_train[centers_train == \"C_5\"])[:, 1]\n",
    "preds_val_2_5 = trfs.pred_aggregation(preds_val_2_5, samples_train[centers_train == \"C_5\"])"
   ]
  },
  {
   "cell_type": "code",
   "execution_count": 15,
   "metadata": {},
   "outputs": [
    {
     "name": "stdout",
     "output_type": "stream",
     "text": [
      "Train AUC C_2:  1.0\n",
      "Val AUC C_1:  0.596881449208897\n",
      "Val AUC C_5:  0.6032608695652174\n"
     ]
    }
   ],
   "source": [
    "print(\"Train AUC C_2: \", roc_auc_score(y_agg[centers_agg == \"C_2\"], preds_train_c_2))\n",
    "print(\"Val AUC C_1: \", roc_auc_score(y_agg[centers_agg == \"C_1\"], preds_val_2_1))\n",
    "print(\"Val AUC C_5: \", roc_auc_score(y_agg[centers_agg == \"C_5\"], preds_val_2_5))"
   ]
  },
  {
   "cell_type": "code",
   "execution_count": 16,
   "metadata": {},
   "outputs": [
    {
     "data": {
      "text/html": [
       "<style>#sk-container-id-2 {color: black;background-color: white;}#sk-container-id-2 pre{padding: 0;}#sk-container-id-2 div.sk-toggleable {background-color: white;}#sk-container-id-2 label.sk-toggleable__label {cursor: pointer;display: block;width: 100%;margin-bottom: 0;padding: 0.3em;box-sizing: border-box;text-align: center;}#sk-container-id-2 label.sk-toggleable__label-arrow:before {content: \"▸\";float: left;margin-right: 0.25em;color: #696969;}#sk-container-id-2 label.sk-toggleable__label-arrow:hover:before {color: black;}#sk-container-id-2 div.sk-estimator:hover label.sk-toggleable__label-arrow:before {color: black;}#sk-container-id-2 div.sk-toggleable__content {max-height: 0;max-width: 0;overflow: hidden;text-align: left;background-color: #f0f8ff;}#sk-container-id-2 div.sk-toggleable__content pre {margin: 0.2em;color: black;border-radius: 0.25em;background-color: #f0f8ff;}#sk-container-id-2 input.sk-toggleable__control:checked~div.sk-toggleable__content {max-height: 200px;max-width: 100%;overflow: auto;}#sk-container-id-2 input.sk-toggleable__control:checked~label.sk-toggleable__label-arrow:before {content: \"▾\";}#sk-container-id-2 div.sk-estimator input.sk-toggleable__control:checked~label.sk-toggleable__label {background-color: #d4ebff;}#sk-container-id-2 div.sk-label input.sk-toggleable__control:checked~label.sk-toggleable__label {background-color: #d4ebff;}#sk-container-id-2 input.sk-hidden--visually {border: 0;clip: rect(1px 1px 1px 1px);clip: rect(1px, 1px, 1px, 1px);height: 1px;margin: -1px;overflow: hidden;padding: 0;position: absolute;width: 1px;}#sk-container-id-2 div.sk-estimator {font-family: monospace;background-color: #f0f8ff;border: 1px dotted black;border-radius: 0.25em;box-sizing: border-box;margin-bottom: 0.5em;}#sk-container-id-2 div.sk-estimator:hover {background-color: #d4ebff;}#sk-container-id-2 div.sk-parallel-item::after {content: \"\";width: 100%;border-bottom: 1px solid gray;flex-grow: 1;}#sk-container-id-2 div.sk-label:hover label.sk-toggleable__label {background-color: #d4ebff;}#sk-container-id-2 div.sk-serial::before {content: \"\";position: absolute;border-left: 1px solid gray;box-sizing: border-box;top: 0;bottom: 0;left: 50%;z-index: 0;}#sk-container-id-2 div.sk-serial {display: flex;flex-direction: column;align-items: center;background-color: white;padding-right: 0.2em;padding-left: 0.2em;position: relative;}#sk-container-id-2 div.sk-item {position: relative;z-index: 1;}#sk-container-id-2 div.sk-parallel {display: flex;align-items: stretch;justify-content: center;background-color: white;position: relative;}#sk-container-id-2 div.sk-item::before, #sk-container-id-2 div.sk-parallel-item::before {content: \"\";position: absolute;border-left: 1px solid gray;box-sizing: border-box;top: 0;bottom: 0;left: 50%;z-index: -1;}#sk-container-id-2 div.sk-parallel-item {display: flex;flex-direction: column;z-index: 1;position: relative;background-color: white;}#sk-container-id-2 div.sk-parallel-item:first-child::after {align-self: flex-end;width: 50%;}#sk-container-id-2 div.sk-parallel-item:last-child::after {align-self: flex-start;width: 50%;}#sk-container-id-2 div.sk-parallel-item:only-child::after {width: 0;}#sk-container-id-2 div.sk-dashed-wrapped {border: 1px dashed gray;margin: 0 0.4em 0.5em 0.4em;box-sizing: border-box;padding-bottom: 0.4em;background-color: white;}#sk-container-id-2 div.sk-label label {font-family: monospace;font-weight: bold;display: inline-block;line-height: 1.2em;}#sk-container-id-2 div.sk-label-container {text-align: center;}#sk-container-id-2 div.sk-container {/* jupyter's `normalize.less` sets `[hidden] { display: none; }` but bootstrap.min.css set `[hidden] { display: none !important; }` so we also need the `!important` here to be able to override the default hidden behavior on the sphinx rendered scikit-learn.org. See: https://github.com/scikit-learn/scikit-learn/issues/21755 */display: inline-block !important;position: relative;}#sk-container-id-2 div.sk-text-repr-fallback {display: none;}</style><div id=\"sk-container-id-2\" class=\"sk-top-container\"><div class=\"sk-text-repr-fallback\"><pre>RandomForestClassifier(n_jobs=6)</pre><b>In a Jupyter environment, please rerun this cell to show the HTML representation or trust the notebook. <br />On GitHub, the HTML representation is unable to render, please try loading this page with nbviewer.org.</b></div><div class=\"sk-container\" hidden><div class=\"sk-item\"><div class=\"sk-estimator sk-toggleable\"><input class=\"sk-toggleable__control sk-hidden--visually\" id=\"sk-estimator-id-2\" type=\"checkbox\" checked><label for=\"sk-estimator-id-2\" class=\"sk-toggleable__label sk-toggleable__label-arrow\">RandomForestClassifier</label><div class=\"sk-toggleable__content\"><pre>RandomForestClassifier(n_jobs=6)</pre></div></div></div></div></div>"
      ],
      "text/plain": [
       "RandomForestClassifier(n_jobs=6)"
      ]
     },
     "execution_count": 16,
     "metadata": {},
     "output_type": "execute_result"
    }
   ],
   "source": [
    "estimator_C_1 = trfs.get_tabular_estimator(\"RF\")\n",
    "estimator_C_1.fit(X_train[centers_train == \"C_1\"], y_train[centers_train == \"C_1\"])"
   ]
  },
  {
   "cell_type": "code",
   "execution_count": 17,
   "metadata": {},
   "outputs": [],
   "source": [
    "preds_train_c_1 = estimator_C_1.predict_proba(X_train[centers_train == \"C_1\"])[:, 1]\n",
    "preds_train_c_1 = trfs.pred_aggregation(preds_train_c_1, samples_train[centers_train == \"C_1\"])\n",
    "\n",
    "preds_val_1_2 = estimator_C_1.predict_proba(X_train[centers_train == \"C_2\"])[:, 1]\n",
    "preds_val_1_2 = trfs.pred_aggregation(preds_val_1_2, samples_train[centers_train == \"C_2\"])\n",
    "\n",
    "preds_val_1_5 = estimator_C_1.predict_proba(X_train[centers_train == \"C_5\"])[:, 1]\n",
    "preds_val_1_5 = trfs.pred_aggregation(preds_val_1_5, samples_train[centers_train == \"C_5\"])"
   ]
  },
  {
   "cell_type": "code",
   "execution_count": 18,
   "metadata": {},
   "outputs": [
    {
     "name": "stdout",
     "output_type": "stream",
     "text": [
      "Train AUC C_1:  1.0\n",
      "Val AUC C_2:  0.5798664612223934\n",
      "Val AUC C_5:  0.6508951406649616\n"
     ]
    }
   ],
   "source": [
    "print(\"Train AUC C_1: \", roc_auc_score(y_agg[centers_agg == \"C_1\"], preds_train_c_1))\n",
    "print(\"Val AUC C_2: \", roc_auc_score(y_agg[centers_agg == \"C_2\"], preds_val_1_2))\n",
    "print(\"Val AUC C_5: \", roc_auc_score(y_agg[centers_agg == \"C_5\"], preds_val_1_5))"
   ]
  },
  {
   "cell_type": "code",
   "execution_count": 19,
   "metadata": {},
   "outputs": [
    {
     "data": {
      "text/html": [
       "<style>#sk-container-id-3 {color: black;background-color: white;}#sk-container-id-3 pre{padding: 0;}#sk-container-id-3 div.sk-toggleable {background-color: white;}#sk-container-id-3 label.sk-toggleable__label {cursor: pointer;display: block;width: 100%;margin-bottom: 0;padding: 0.3em;box-sizing: border-box;text-align: center;}#sk-container-id-3 label.sk-toggleable__label-arrow:before {content: \"▸\";float: left;margin-right: 0.25em;color: #696969;}#sk-container-id-3 label.sk-toggleable__label-arrow:hover:before {color: black;}#sk-container-id-3 div.sk-estimator:hover label.sk-toggleable__label-arrow:before {color: black;}#sk-container-id-3 div.sk-toggleable__content {max-height: 0;max-width: 0;overflow: hidden;text-align: left;background-color: #f0f8ff;}#sk-container-id-3 div.sk-toggleable__content pre {margin: 0.2em;color: black;border-radius: 0.25em;background-color: #f0f8ff;}#sk-container-id-3 input.sk-toggleable__control:checked~div.sk-toggleable__content {max-height: 200px;max-width: 100%;overflow: auto;}#sk-container-id-3 input.sk-toggleable__control:checked~label.sk-toggleable__label-arrow:before {content: \"▾\";}#sk-container-id-3 div.sk-estimator input.sk-toggleable__control:checked~label.sk-toggleable__label {background-color: #d4ebff;}#sk-container-id-3 div.sk-label input.sk-toggleable__control:checked~label.sk-toggleable__label {background-color: #d4ebff;}#sk-container-id-3 input.sk-hidden--visually {border: 0;clip: rect(1px 1px 1px 1px);clip: rect(1px, 1px, 1px, 1px);height: 1px;margin: -1px;overflow: hidden;padding: 0;position: absolute;width: 1px;}#sk-container-id-3 div.sk-estimator {font-family: monospace;background-color: #f0f8ff;border: 1px dotted black;border-radius: 0.25em;box-sizing: border-box;margin-bottom: 0.5em;}#sk-container-id-3 div.sk-estimator:hover {background-color: #d4ebff;}#sk-container-id-3 div.sk-parallel-item::after {content: \"\";width: 100%;border-bottom: 1px solid gray;flex-grow: 1;}#sk-container-id-3 div.sk-label:hover label.sk-toggleable__label {background-color: #d4ebff;}#sk-container-id-3 div.sk-serial::before {content: \"\";position: absolute;border-left: 1px solid gray;box-sizing: border-box;top: 0;bottom: 0;left: 50%;z-index: 0;}#sk-container-id-3 div.sk-serial {display: flex;flex-direction: column;align-items: center;background-color: white;padding-right: 0.2em;padding-left: 0.2em;position: relative;}#sk-container-id-3 div.sk-item {position: relative;z-index: 1;}#sk-container-id-3 div.sk-parallel {display: flex;align-items: stretch;justify-content: center;background-color: white;position: relative;}#sk-container-id-3 div.sk-item::before, #sk-container-id-3 div.sk-parallel-item::before {content: \"\";position: absolute;border-left: 1px solid gray;box-sizing: border-box;top: 0;bottom: 0;left: 50%;z-index: -1;}#sk-container-id-3 div.sk-parallel-item {display: flex;flex-direction: column;z-index: 1;position: relative;background-color: white;}#sk-container-id-3 div.sk-parallel-item:first-child::after {align-self: flex-end;width: 50%;}#sk-container-id-3 div.sk-parallel-item:last-child::after {align-self: flex-start;width: 50%;}#sk-container-id-3 div.sk-parallel-item:only-child::after {width: 0;}#sk-container-id-3 div.sk-dashed-wrapped {border: 1px dashed gray;margin: 0 0.4em 0.5em 0.4em;box-sizing: border-box;padding-bottom: 0.4em;background-color: white;}#sk-container-id-3 div.sk-label label {font-family: monospace;font-weight: bold;display: inline-block;line-height: 1.2em;}#sk-container-id-3 div.sk-label-container {text-align: center;}#sk-container-id-3 div.sk-container {/* jupyter's `normalize.less` sets `[hidden] { display: none; }` but bootstrap.min.css set `[hidden] { display: none !important; }` so we also need the `!important` here to be able to override the default hidden behavior on the sphinx rendered scikit-learn.org. See: https://github.com/scikit-learn/scikit-learn/issues/21755 */display: inline-block !important;position: relative;}#sk-container-id-3 div.sk-text-repr-fallback {display: none;}</style><div id=\"sk-container-id-3\" class=\"sk-top-container\"><div class=\"sk-text-repr-fallback\"><pre>RandomForestClassifier(n_jobs=6)</pre><b>In a Jupyter environment, please rerun this cell to show the HTML representation or trust the notebook. <br />On GitHub, the HTML representation is unable to render, please try loading this page with nbviewer.org.</b></div><div class=\"sk-container\" hidden><div class=\"sk-item\"><div class=\"sk-estimator sk-toggleable\"><input class=\"sk-toggleable__control sk-hidden--visually\" id=\"sk-estimator-id-3\" type=\"checkbox\" checked><label for=\"sk-estimator-id-3\" class=\"sk-toggleable__label sk-toggleable__label-arrow\">RandomForestClassifier</label><div class=\"sk-toggleable__content\"><pre>RandomForestClassifier(n_jobs=6)</pre></div></div></div></div></div>"
      ],
      "text/plain": [
       "RandomForestClassifier(n_jobs=6)"
      ]
     },
     "execution_count": 19,
     "metadata": {},
     "output_type": "execute_result"
    }
   ],
   "source": [
    "estimator_C_5 = trfs.get_tabular_estimator(\"RF\")\n",
    "estimator_C_5.fit(X_train[centers_train == \"C_5\"], y_train[centers_train == \"C_5\"])"
   ]
  },
  {
   "cell_type": "code",
   "execution_count": 21,
   "metadata": {},
   "outputs": [],
   "source": [
    "preds_train_c_5 = estimator_C_5.predict_proba(X_train[centers_train == \"C_5\"])[:, 1]\n",
    "preds_train_c_5 = trfs.pred_aggregation(preds_train_c_5, samples_train[centers_train == \"C_5\"])\n",
    "\n",
    "preds_val_5_1 = estimator_C_5.predict_proba(X_train[centers_train == \"C_1\"])[:, 1]\n",
    "preds_val_5_1 = trfs.pred_aggregation(preds_val_5_1, samples_train[centers_train == \"C_1\"])\n",
    "\n",
    "preds_val_5_2 = estimator_C_5.predict_proba(X_train[centers_train == \"C_2\"])[:, 1]\n",
    "preds_val_5_2 = trfs.pred_aggregation(preds_val_5_2, samples_train[centers_train == \"C_2\"])"
   ]
  },
  {
   "cell_type": "code",
   "execution_count": 22,
   "metadata": {},
   "outputs": [
    {
     "name": "stdout",
     "output_type": "stream",
     "text": [
      "Train AUC C_5:  1.0\n",
      "Val AUC C_1:  0.6230222426049071\n",
      "Val AUC C_2:  0.5973292244478685\n"
     ]
    }
   ],
   "source": [
    "print(\"Train AUC C_5: \", roc_auc_score(y_agg[centers_agg == \"C_5\"], preds_train_c_5))\n",
    "print(\"Val AUC C_1: \", roc_auc_score(y_agg[centers_agg == \"C_1\"], preds_val_5_1))\n",
    "print(\"Val AUC C_2: \", roc_auc_score(y_agg[centers_agg == \"C_2\"], preds_val_5_2))"
   ]
  },
  {
   "cell_type": "code",
   "execution_count": null,
   "metadata": {},
   "outputs": [],
   "source": []
  },
  {
   "cell_type": "code",
   "execution_count": null,
   "metadata": {},
   "outputs": [],
   "source": []
  }
 ],
 "metadata": {
  "kernelspec": {
   "display_name": "PythonforDataScience",
   "language": "python",
   "name": "python3"
  },
  "language_info": {
   "codemirror_mode": {
    "name": "ipython",
    "version": 3
   },
   "file_extension": ".py",
   "mimetype": "text/x-python",
   "name": "python",
   "nbconvert_exporter": "python",
   "pygments_lexer": "ipython3",
   "version": "3.9.13"
  },
  "orig_nbformat": 4,
  "vscode": {
   "interpreter": {
    "hash": "cc52c240423903a7f6cb29b10aad6b930e49a3fd216e24f3f35f0eb5e84fde72"
   }
  }
 },
 "nbformat": 4,
 "nbformat_minor": 2
}
